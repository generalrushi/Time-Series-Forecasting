import pandas as pd
import numpy as np
import matplotlib.pyplot as plt
import seaborn as sns
import os

dire = os.getcwd()
os.chdir(dire)

data = pd.read_csv("Quote-Equity-ITC-EQ-20-08-2022-to-20-11-2022.csv")
data.columns = [x.strip() for x in data.columns.to_list()]
data.columns

data.Date = data.Date.astype('datetime64[D]')
data =data[['Date',"ltp"]]

data = data.rename(columns = {"ltp":"ITC Price"})
data = data[(data.Date >= "2022-10-01")]

data.head(5)

plt.style.use('seaborn-darkgrid')

# Plot the time series
plt.figure(figsize=(10, 7))
plt.plot(data['Date'],data['ITC Price'])
plt.title('ITC', fontsize=14)
plt.xlabel('Date', fontsize=8)
plt.ylabel('Price', fontsize=12)
plt.show()

X = data['ITC Price']
split = round(len(X) / 2)
X1, X2 = X[0:split], X[split:]
mean1, mean2 = X1.mean(), X2.mean()
var1, var2 = X1.var(), X2.var()
print('mean1=%f, mean2=%f' % (mean1, mean2))
print('variance1=%f, variance2=%f' % (var1, var2))

# Import adfuller
from statsmodels.tsa.stattools import adfuller

result = adfuller(data['ITC Price'])
print('ADF Test Statistic: %.2f' % result[0])
print('5%% Critical Value: %.2f' % result[4]['5%'])
print('p-value: %.2f' % result[1])

# Import kpss
from statsmodels.tsa.stattools import kpss

result = kpss(data['ITC Price'])
#print(result)
print('KPSS Test Statistic: %.2f' % result[0])
print('5%% Critical Value: %.2f' % result[3]['5%'])
print('p-value: %.2f' % result[1])

#--The result suggests ADF sys it is non -stati, KPSS says Stationary

# Change for (t)th day is Close for (t)th day minus Close for (t-1)th day.
data['Difference'] = data['ITC Price'].diff().diff()

# Plot the Change
plt.figure(figsize=(10, 7))
plt.plot(data['Difference'])
plt.title('First Order Differenced Series', fontsize=14)
plt.xlabel('Year', fontsize=12)
plt.ylabel('Difference', fontsize=12)
plt.show()

result = adfuller(data.Difference.dropna())
#print(result)
print('ADF Test Statistic: %.2f' % result[0])
print('5%% Critical Value: %.2f' % result[4]['5%'])
print('p-value: %.2f' % result[1])
print("-----------------------------------------------")
result = kpss(data.Difference.dropna())
#print(result)
print('KPSS Test Statistic: %.2f' % result[0])
print('5%% Critical Value: %.2f' % result[3]['5%'])
print('p-value: %.2f' % result[1])

#---We can conclude that Our time series is staionary----
